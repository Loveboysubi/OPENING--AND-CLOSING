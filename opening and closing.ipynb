{
 "cells": [
  {
   "cell_type": "code",
   "execution_count": null,
   "id": "b64f6791",
   "metadata": {},
   "outputs": [],
   "source": [
    "# Import the necessary packages\n",
    "import cv2\n",
    "import numpy as np\n",
    "from matplotlib import pyplot as plt\n",
    "     "
   ]
  },
  {
   "cell_type": "code",
   "execution_count": null,
   "id": "114a697f",
   "metadata": {},
   "outputs": [],
   "source": [
    "# Create the text using cv2.putText\n",
    "img = np.zeros((350, 1400), dtype='uint8')\n"
    "font = cv2.FONT_HERSHEY_SIMPLEX\n"
    "cv2.putText(img, 'SUBISHESH', (15, 200), font, 5, (255), 10, cv2.LINE_AA)\n"
    "cv2.imshow('created_text', img)\n"
    "cv2.waitKey(0)\n"
   ]
  },
  {
   "cell_type": "code",
   "execution_count": null,
   "id": "75682b8c",
   "metadata": {},
   "outputs": [],
   "source": [
    "# Create the structuring element\n"
    "kernel=np.ones((5,5),np.uint8)\n"
    "kernel1=cv2.getStructuringElement(cv2.MORPH_CROSS,(11,11))\n"
   ]
  },
  {
   "cell_type": "code",
   "execution_count": null,
   "id": "2a27ac33",
   "metadata": {},
   "outputs": [],
   "source": [
    "# Use the Opening Operation\n"
    "image1=cv2.morphologyEx(img,cv2.MORPH_OPEN,kernel)\n"
    "plt.imshow(image1)\n"
    "plt.axis("off")\n"
   ]
  },
  {
   "cell_type": "code",
   "execution_count": null,
   "id": "9b6405f3",
   "metadata": {},
   "outputs": [],
   "source": [
    "# Use the Closing Operation\n"
    "image2=cv2.morphologyEx(img,cv2.MORPH_CLOSE,kernel)\n"
    "plt.imshow(image2)\n"
    "plt.axis("off")\n"
   ]
  }
 ],
 "metadata": {
  "kernelspec": {
   "display_name": "Python 3 (ipykernel)",
   "language": "python",
   "name": "python3"
  },
  "language_info": {
   "codemirror_mode": {
    "name": "ipython",
    "version": 3
   },
   "file_extension": ".py",
   "mimetype": "text/x-python",
   "name": "python",
   "nbconvert_exporter": "python",
   "pygments_lexer": "ipython3",
   "version": "3.9.12"
  }
 },
 "nbformat": 4,
 "nbformat_minor": 5
}
